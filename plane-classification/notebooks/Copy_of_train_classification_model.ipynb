{
  "nbformat": 4,
  "nbformat_minor": 0,
  "metadata": {
    "colab": {
      "name": "Copy of train_classification_model.ipynb",
      "provenance": [],
      "collapsed_sections": [],
      "include_colab_link": true
    },
    "kernelspec": {
      "name": "python3",
      "display_name": "Python 3"
    },
    "language_info": {
      "name": "python"
    },
    "accelerator": "TPU"
  },
  "cells": [
    {
      "cell_type": "markdown",
      "metadata": {
        "id": "view-in-github",
        "colab_type": "text"
      },
      "source": [
        "<a href=\"https://colab.research.google.com/github/CamCha0928/plane-classification/blob/main/plane-classification/notebooks/Copy_of_train_classification_model.ipynb\" target=\"_parent\"><img src=\"https://colab.research.google.com/assets/colab-badge.svg\" alt=\"Open In Colab\"/></a>"
      ]
    },
    {
      "cell_type": "markdown",
      "source": [
        "# Importation des données "
      ],
      "metadata": {
        "id": "2S7ce_mYFkdQ"
      }
    },
    {
      "cell_type": "code",
      "execution_count": 1,
      "metadata": {
        "colab": {
          "base_uri": "https://localhost:8080/"
        },
        "id": "VgmaCkAMYtDe",
        "outputId": "b081a553-f930-4494-c2db-2d64ab822e1b"
      },
      "outputs": [
        {
          "output_type": "stream",
          "name": "stdout",
          "text": [
            "  % Total    % Received % Xferd  Average Speed   Time    Time     Time  Current\n",
            "                                 Dload  Upload   Total   Spent    Left  Speed\n",
            "100 2625M  100 2625M    0     0  20.8M      0  0:02:06  0:02:06 --:--:-- 21.0M\n"
          ]
        }
      ],
      "source": [
        "!curl -O https://www.robots.ox.ac.uk/~vgg/data/fgvc-aircraft/archives/fgvc-aircraft-2013b.tar.gz\n",
        "!tar xzf fgvc-aircraft-2013b.tar.gz\n",
        "!mv fgvc-aircraft-2013b dataset"
      ]
    },
    {
      "cell_type": "markdown",
      "source": [
        "### Packages"
      ],
      "metadata": {
        "id": "E9KEEr-SqTW1"
      }
    },
    {
      "cell_type": "code",
      "source": [
        "import pathlib\n",
        "import matplotlib.pyplot as plt\n",
        "import numpy as np\n",
        "import pandas as pd\n",
        "import tensorflow as tf\n",
        "import yaml\n",
        "import seaborn as sns\n",
        "import datetime\n",
        "\n",
        "from keras.models import Sequential, load_model\n",
        "from keras.layers import Conv2D, MaxPool2D, Dense, Flatten, Dropout\n",
        "\n",
        "#from tensorflow.keras.utils import to_categorical\n",
        "from sklearn.model_selection import train_test_split\n",
        "from PIL import Image"
      ],
      "metadata": {
        "id": "MpYIMjSYZMLQ"
      },
      "execution_count": 2,
      "outputs": []
    },
    {
      "cell_type": "markdown",
      "source": [
        "## Constantes"
      ],
      "metadata": {
        "id": "_x9gNNs-6Q1B"
      }
    },
    {
      "cell_type": "code",
      "source": [
        "from google.colab import drive\n",
        "drive.mount('/content/drive')"
      ],
      "metadata": {
        "colab": {
          "base_uri": "https://localhost:8080/"
        },
        "id": "8TyKwbNtT4oK",
        "outputId": "97da81b5-e78b-4949-8e97-a197db58c5b1"
      },
      "execution_count": 8,
      "outputs": [
        {
          "output_type": "stream",
          "name": "stdout",
          "text": [
            "Mounted at /content/drive\n"
          ]
        }
      ]
    },
    {
      "cell_type": "code",
      "source": [
        "with open(r'parametre.yaml') as yaml_data:\n",
        "  params = yaml.safe_load(yaml_data)\n",
        "  print(params)"
      ],
      "metadata": {
        "colab": {
          "base_uri": "https://localhost:8080/"
        },
        "id": "DmeUwqgHIAaB",
        "outputId": "54abec3c-246c-4f1f-c79e-8d50d134d462"
      },
      "execution_count": 9,
      "outputs": [
        {
          "output_type": "stream",
          "name": "stdout",
          "text": [
            "{'DATA_DIR': 'dataset/data', 'MODELS_DIR': 'model', 'IMAGE_WIDTH': 128, 'IMAGE_HEIGHT': 128, 'IMAGE_DEPTH': 3}\n"
          ]
        }
      ]
    },
    {
      "cell_type": "code",
      "source": [
        "DATA_DIR = pathlib.Path(params['DATA_DIR'])\n",
        "IMAGE_WIDTH = params['IMAGE_WIDTH']\n",
        "IMAGE_HEIGHT = params['IMAGE_HEIGHT']\n",
        "IMAGE_DEPTH = params['IMAGE_DEPTH']\n",
        "MODELS_DIR = params['MODELS_DIR']"
      ],
      "metadata": {
        "id": "Dr_2EW33bf-Q"
      },
      "execution_count": 10,
      "outputs": []
    },
    {
      "cell_type": "markdown",
      "source": [
        "# Lecture des fichiers"
      ],
      "metadata": {
        "id": "ig4p7nQxPN-v"
      }
    },
    {
      "cell_type": "markdown",
      "source": [
        "Construction DataFrame et redimension des images"
      ],
      "metadata": {
        "id": "ipAaLV1YWkMi"
      }
    },
    {
      "cell_type": "code",
      "source": [
        "def build_image_database(path, target):\n",
        "  \"\"\"Build a pandas dataframe with target class and access path to images.\n",
        "\n",
        "  Parameters\n",
        "  ----------\n",
        "  path (Path): path pattern to read csv file containing images information.\n",
        "  target (str): name of the target column.\n",
        "\n",
        "  Returns\n",
        "  -------\n",
        "  A pandas dataframe, including target class and path to image.\n",
        "  \"\"\"\n",
        "  _df = pd.read_csv(path, sep='\\t',\n",
        "              names=['all'],\n",
        "              dtype={'all': str},              # ids are not int but string\n",
        "            )\n",
        "\n",
        "  # La fonction split() découpe une chaîne de caractères\n",
        "  _df['image_id'] = _df['all'].apply(lambda x: x.split(' ')[0])\n",
        "\n",
        "  # La fonction '<car>'.join(liste) concatène les éléments de liste en utilisant le séparateur <car>\n",
        "  _df[target] = _df['all'].apply(lambda x: ' '.join(x.split(' ')[1:]))\n",
        "\n",
        "  # La colonne path contient le chemin d'accès à l'image\n",
        "  _df['path'] = _df['image_id'].apply(lambda x: pathlib.Path('dataset/data/images') / (x + '.jpg'))\n",
        "\n",
        "  return _df.drop(columns=['all'])"
      ],
      "metadata": {
        "id": "IQ-oAOTYF37l"
      },
      "execution_count": null,
      "outputs": []
    },
    {
      "cell_type": "code",
      "source": [
        "manufacturer_df = build_image_database(DATA_DIR / 'images_manufacturer_train.txt', 'manufacturer')"
      ],
      "metadata": {
        "id": "Gd4HH8hxUGvE"
      },
      "execution_count": null,
      "outputs": []
    },
    {
      "cell_type": "code",
      "source": [
        "# La fonction :\n",
        "# - prend un df (argument)\n",
        "# - prend une ligne (row : argument, l'indice de la ligne)\n",
        "# - prend une colonne (target : argument)\n",
        "# - elle affiche la classe (la valeur de target) et l'image associée, pour la ligne en argument\n",
        "\n",
        "def show_image(df, row, target):\n",
        "  \"\"\"Show an image from an image database, with the associated class.\n",
        "\n",
        "  Parameters\n",
        "  ----------\n",
        "  df (pd.DataFrame): images definition dataframe\n",
        "  row (int): row index in df of image to be displayed\n",
        "  target (str): name of the target column\n",
        "\n",
        "  Returns\n",
        "  -------\n",
        "  None\n",
        "  \"\"\"\n",
        "  assert target in df.columns, \"Missing target column in dataframe\"\n",
        "  assert 'path' in df.columns, \"Missing image path in dataframe\"\n",
        "  print(df.iloc[row,][target])\n",
        "  plt.imshow(plt.imread(df.iloc[row,]['path']))\n",
        "  return"
      ],
      "metadata": {
        "id": "k1cARpYSUEdq"
      },
      "execution_count": null,
      "outputs": []
    },
    {
      "cell_type": "code",
      "source": [
        "def load_resize_image(path, height, width):\n",
        "  \"\"\"Load an image and resize it to the target size.\n",
        "\n",
        "  Parameters\n",
        "  ----------\n",
        "  path (Path): access path to image file\n",
        "  height (int): resize image to this height\n",
        "  width (int): resize image to this width\n",
        "  \n",
        "  Returns\n",
        "  -------\n",
        "  np.array containing resized image\n",
        "  \"\"\"\n",
        "  return np.array(Image.open(path).resize((width, height)))"
      ],
      "metadata": {
        "id": "WWhPJrtaRCDP"
      },
      "execution_count": null,
      "outputs": []
    },
    {
      "cell_type": "code",
      "source": [
        "manufacturer_df['resized_image'] = manufacturer_df.apply(lambda r: load_resize_image(r['path'], IMAGE_HEIGHT, IMAGE_WIDTH), axis=1)"
      ],
      "metadata": {
        "id": "TpIrDBlgUL6p"
      },
      "execution_count": null,
      "outputs": []
    },
    {
      "cell_type": "markdown",
      "source": [
        "Information de classes"
      ],
      "metadata": {
        "id": "wSuWOM9nh-My"
      }
    },
    {
      "cell_type": "code",
      "source": [
        "# Suppression des valeurs manquantes et nombre d'avion par catégorie\n",
        "manufacturer_df['manufacturer'].value_counts(dropna=False)"
      ],
      "metadata": {
        "colab": {
          "base_uri": "https://localhost:8080/"
        },
        "id": "EprGvqesPvQt",
        "outputId": "14995ccb-86ed-4f0c-be6c-51d3cdb49c5e"
      },
      "execution_count": null,
      "outputs": [
        {
          "output_type": "execute_result",
          "data": {
            "text/plain": [
              "Boeing                      733\n",
              "Airbus                      434\n",
              "Embraer                     233\n",
              "McDonnell Douglas           232\n",
              "de Havilland                167\n",
              "Canadair                    134\n",
              "Douglas Aircraft Company    133\n",
              "Cessna                      133\n",
              "British Aerospace           133\n",
              "Fokker                      100\n",
              "Lockheed Corporation         68\n",
              "Beechcraft                   67\n",
              "Saab                         67\n",
              "Gulfstream Aerospace         67\n",
              "Dassault Aviation            67\n",
              "Tupolev                      66\n",
              "ATR                          66\n",
              "Panavia                      34\n",
              "Yakovlev                     34\n",
              "Lockheed Martin              34\n",
              "Dornier                      34\n",
              "Antonov                      34\n",
              "Bombardier Aerospace         33\n",
              "Ilyushin                     33\n",
              "Fairchild                    33\n",
              "Piper                        33\n",
              "Cirrus Aircraft              33\n",
              "Supermarine                  33\n",
              "Robin                        33\n",
              "Eurofighter                  33\n",
              "Name: manufacturer, dtype: int64"
            ]
          },
          "metadata": {},
          "execution_count": 105
        }
      ]
    },
    {
      "cell_type": "markdown",
      "source": [
        "# Réseau de neurone pour la classification"
      ],
      "metadata": {
        "id": "ZLeUiSWSZg1q"
      }
    },
    {
      "cell_type": "code",
      "source": [
        "def build_classification_model(df: pd.DataFrame, target: str, images: str):\n",
        "  \"\"\"Build a TF model using information from target and images columns in dataframe.\n",
        "\n",
        "  Parameters\n",
        "  ----------\n",
        "  df (pd.DataFrame): dataframe with target and images columns\n",
        "  target (str): column name for target variable\n",
        "  images (str): column name for images\n",
        "\n",
        "  Returns\n",
        "  -------\n",
        "  TF model built & compiled\n",
        "  \"\"\"\n",
        "  nb_classes = df[target].nunique() # Compute number of classes for output layer\n",
        "  size = df[images].iloc[0].shape # Compute images size for input layer\n",
        "\n",
        "  #Building the model\n",
        "  model = Sequential()\n",
        "  model.add(Conv2D(filters=32, kernel_size=(5,5), activation='relu', input_shape=size))\n",
        "  model.add(Conv2D(filters=32, kernel_size=(5,5), activation='relu'))\n",
        "  model.add(MaxPool2D(pool_size=(2, 2)))\n",
        "  model.add(Dropout(rate=0.25))\n",
        "  model.add(Conv2D(filters=64, kernel_size=(3, 3), activation='relu'))\n",
        "  model.add(Conv2D(filters=64, kernel_size=(3, 3), activation='relu'))\n",
        "  model.add(MaxPool2D(pool_size=(2, 2)))\n",
        "  model.add(Dropout(rate=0.25))\n",
        "  model.add(Flatten())\n",
        "  model.add(Dense(256, activation='relu'))\n",
        "  model.add(Dropout(rate=0.5))\n",
        "  model.add(Dense(nb_classes, activation='softmax')) # output layer with nb_classes\n",
        "\n",
        "  #Compilation of the model\n",
        "  model.compile(loss='categorical_crossentropy', optimizer='adam', metrics=['accuracy'])\n",
        "\n",
        "  return model\n"
      ],
      "metadata": {
        "id": "rCEZVyzpb5dU"
      },
      "execution_count": null,
      "outputs": []
    },
    {
      "cell_type": "markdown",
      "source": [
        "# Constitution de la base d'apprentissage"
      ],
      "metadata": {
        "id": "-31y54DgW8Im"
      }
    },
    {
      "cell_type": "markdown",
      "source": [
        "Train et Test"
      ],
      "metadata": {
        "id": "m-n97_UBVzjd"
      }
    },
    {
      "cell_type": "code",
      "source": [
        "def build_x_and_y(df: pd.DataFrame, target: str, images: str):\n",
        "  \"\"\"Build x tensor and y tensor for model fitting.\n",
        "\n",
        "  Parameters\n",
        "  ----------\n",
        "  df (pd.DataFrame): dataframe containing images and target\n",
        "  target (str): name of target column\n",
        "  images (str): name of images column\n",
        "\n",
        "  Returns\n",
        "  -------\n",
        "  x (np.array): tensor of x values\n",
        "  y (np.array): tensor of y values\n",
        "  \"\"\"\n",
        "  x = np.array(df[images].to_list())\n",
        "  y = tf.keras.utils.to_categorical(df[target].astype('category').cat.codes)\n",
        "  return x, y\n"
      ],
      "metadata": {
        "id": "2BqkQLyuhve0"
      },
      "execution_count": null,
      "outputs": []
    },
    {
      "cell_type": "code",
      "source": [
        "# Load train & test dataset\n",
        "train_df = build_image_database(DATA_DIR / 'images_manufacturer_train.txt', 'manufacturer')\n",
        "test_df = build_image_database(DATA_DIR / 'images_manufacturer_test.txt', 'manufacturer')\n",
        "\n",
        "# Load & resize images\n",
        "train_df['resized_image'] = train_df.apply(lambda r: load_resize_image(r['path'],\n",
        "                                                                       IMAGE_HEIGHT, IMAGE_WIDTH),\n",
        "                                           axis=1)\n",
        "test_df['resized_image'] = test_df.apply(lambda r: load_resize_image(r['path'],\n",
        "                                                                       IMAGE_HEIGHT, IMAGE_WIDTH),\n",
        "                                         axis=1)\n",
        "\n",
        "# Build tensors for training & testing\n",
        "X_train, y_train = build_x_and_y(train_df, 'manufacturer', 'resized_image')\n",
        "X_test, y_test = build_x_and_y(test_df, 'manufacturer', 'resized_image')\n",
        "\n",
        "# Build TF classification model\n",
        "model = build_classification_model(train_df, 'manufacturer', 'resized_image')\n"
      ],
      "metadata": {
        "id": "Yxf7tPGKkIAo"
      },
      "execution_count": null,
      "outputs": []
    },
    {
      "cell_type": "markdown",
      "source": [
        "# Entrainement du modèle "
      ],
      "metadata": {
        "id": "ZgECR2HAbUJV"
      }
    },
    {
      "cell_type": "markdown",
      "source": [
        "Classification d'image"
      ],
      "metadata": {
        "id": "rLFKebhohocc"
      }
    },
    {
      "cell_type": "code",
      "source": [
        "def classify_images(images, model, classes_names=None):\n",
        "  \"\"\"Classify images through a TF model.\n",
        "\n",
        "  Parameters\n",
        "  ----------\n",
        "  images (np.array): set of images to classify\n",
        "  model (tf.keras.Model): TF/Keras model\n",
        "  classes_names: dictionary with names of classes\n",
        "\n",
        "  Returns\n",
        "  -------\n",
        "  predicted classes\n",
        "  \"\"\"\n",
        "\n",
        "  results = model.predict(images) # predict for images\n",
        "  classes = np.argmax(results, axis=1) # argmax returns the index of the max value per row\n",
        "  if classes_names is not None:\n",
        "    classes = np.array(classes_names[classes])\n",
        "  return classes"
      ],
      "metadata": {
        "id": "76prrRLTetiK"
      },
      "execution_count": null,
      "outputs": []
    },
    {
      "cell_type": "markdown",
      "source": [
        "CPU --> TPU"
      ],
      "metadata": {
        "id": "wEjsU7Ocds3q"
      }
    },
    {
      "cell_type": "code",
      "source": [
        "try:\n",
        "  tpu = tf.distribute.cluster_resolver.TPUClusterResolver()  # TPU detection\n",
        "  print('Running on TPU ', tpu.cluster_spec().as_dict()['worker'])\n",
        "except ValueError:\n",
        "  raise BaseException('ERROR: Not connected to a TPU runtime; please see the previous cell in this notebook for instructions!')\n",
        "\n",
        "tf.config.experimental_connect_to_cluster(tpu)\n",
        "tf.tpu.experimental.initialize_tpu_system(tpu)\n",
        "tpu_strategy = tf.distribute.experimental.TPUStrategy(tpu)"
      ],
      "metadata": {
        "id": "ulL7d8A4DP_e",
        "colab": {
          "base_uri": "https://localhost:8080/"
        },
        "outputId": "2ae16f33-54bc-4d8f-dcd0-79b4151dfe63"
      },
      "execution_count": null,
      "outputs": [
        {
          "output_type": "stream",
          "name": "stdout",
          "text": [
            "Running on TPU  ['10.21.76.202:8470']\n",
            "INFO:tensorflow:Deallocate tpu buffers before initializing tpu system.\n"
          ]
        },
        {
          "output_type": "stream",
          "name": "stderr",
          "text": [
            "INFO:tensorflow:Deallocate tpu buffers before initializing tpu system.\n"
          ]
        },
        {
          "output_type": "stream",
          "name": "stdout",
          "text": [
            "WARNING:tensorflow:TPU system grpc://10.21.76.202:8470 has already been initialized. Reinitializing the TPU can cause previously created variables on TPU to be lost.\n"
          ]
        },
        {
          "output_type": "stream",
          "name": "stderr",
          "text": [
            "WARNING:tensorflow:TPU system grpc://10.21.76.202:8470 has already been initialized. Reinitializing the TPU can cause previously created variables on TPU to be lost.\n"
          ]
        },
        {
          "output_type": "stream",
          "name": "stdout",
          "text": [
            "INFO:tensorflow:Initializing the TPU system: grpc://10.21.76.202:8470\n"
          ]
        },
        {
          "output_type": "stream",
          "name": "stderr",
          "text": [
            "INFO:tensorflow:Initializing the TPU system: grpc://10.21.76.202:8470\n"
          ]
        },
        {
          "output_type": "stream",
          "name": "stdout",
          "text": [
            "INFO:tensorflow:Finished initializing TPU system.\n"
          ]
        },
        {
          "output_type": "stream",
          "name": "stderr",
          "text": [
            "INFO:tensorflow:Finished initializing TPU system.\n",
            "WARNING:absl:`tf.distribute.experimental.TPUStrategy` is deprecated, please use  the non experimental symbol `tf.distribute.TPUStrategy` instead.\n"
          ]
        },
        {
          "output_type": "stream",
          "name": "stdout",
          "text": [
            "INFO:tensorflow:Found TPU system:\n"
          ]
        },
        {
          "output_type": "stream",
          "name": "stderr",
          "text": [
            "INFO:tensorflow:Found TPU system:\n"
          ]
        },
        {
          "output_type": "stream",
          "name": "stdout",
          "text": [
            "INFO:tensorflow:*** Num TPU Cores: 8\n"
          ]
        },
        {
          "output_type": "stream",
          "name": "stderr",
          "text": [
            "INFO:tensorflow:*** Num TPU Cores: 8\n"
          ]
        },
        {
          "output_type": "stream",
          "name": "stdout",
          "text": [
            "INFO:tensorflow:*** Num TPU Workers: 1\n"
          ]
        },
        {
          "output_type": "stream",
          "name": "stderr",
          "text": [
            "INFO:tensorflow:*** Num TPU Workers: 1\n"
          ]
        },
        {
          "output_type": "stream",
          "name": "stdout",
          "text": [
            "INFO:tensorflow:*** Num TPU Cores Per Worker: 8\n"
          ]
        },
        {
          "output_type": "stream",
          "name": "stderr",
          "text": [
            "INFO:tensorflow:*** Num TPU Cores Per Worker: 8\n"
          ]
        },
        {
          "output_type": "stream",
          "name": "stdout",
          "text": [
            "INFO:tensorflow:*** Available Device: _DeviceAttributes(/job:localhost/replica:0/task:0/device:CPU:0, CPU, 0, 0)\n"
          ]
        },
        {
          "output_type": "stream",
          "name": "stderr",
          "text": [
            "INFO:tensorflow:*** Available Device: _DeviceAttributes(/job:localhost/replica:0/task:0/device:CPU:0, CPU, 0, 0)\n"
          ]
        },
        {
          "output_type": "stream",
          "name": "stdout",
          "text": [
            "INFO:tensorflow:*** Available Device: _DeviceAttributes(/job:worker/replica:0/task:0/device:CPU:0, CPU, 0, 0)\n"
          ]
        },
        {
          "output_type": "stream",
          "name": "stderr",
          "text": [
            "INFO:tensorflow:*** Available Device: _DeviceAttributes(/job:worker/replica:0/task:0/device:CPU:0, CPU, 0, 0)\n"
          ]
        },
        {
          "output_type": "stream",
          "name": "stdout",
          "text": [
            "INFO:tensorflow:*** Available Device: _DeviceAttributes(/job:worker/replica:0/task:0/device:TPU:0, TPU, 0, 0)\n"
          ]
        },
        {
          "output_type": "stream",
          "name": "stderr",
          "text": [
            "INFO:tensorflow:*** Available Device: _DeviceAttributes(/job:worker/replica:0/task:0/device:TPU:0, TPU, 0, 0)\n"
          ]
        },
        {
          "output_type": "stream",
          "name": "stdout",
          "text": [
            "INFO:tensorflow:*** Available Device: _DeviceAttributes(/job:worker/replica:0/task:0/device:TPU:1, TPU, 0, 0)\n"
          ]
        },
        {
          "output_type": "stream",
          "name": "stderr",
          "text": [
            "INFO:tensorflow:*** Available Device: _DeviceAttributes(/job:worker/replica:0/task:0/device:TPU:1, TPU, 0, 0)\n"
          ]
        },
        {
          "output_type": "stream",
          "name": "stdout",
          "text": [
            "INFO:tensorflow:*** Available Device: _DeviceAttributes(/job:worker/replica:0/task:0/device:TPU:2, TPU, 0, 0)\n"
          ]
        },
        {
          "output_type": "stream",
          "name": "stderr",
          "text": [
            "INFO:tensorflow:*** Available Device: _DeviceAttributes(/job:worker/replica:0/task:0/device:TPU:2, TPU, 0, 0)\n"
          ]
        },
        {
          "output_type": "stream",
          "name": "stdout",
          "text": [
            "INFO:tensorflow:*** Available Device: _DeviceAttributes(/job:worker/replica:0/task:0/device:TPU:3, TPU, 0, 0)\n"
          ]
        },
        {
          "output_type": "stream",
          "name": "stderr",
          "text": [
            "INFO:tensorflow:*** Available Device: _DeviceAttributes(/job:worker/replica:0/task:0/device:TPU:3, TPU, 0, 0)\n"
          ]
        },
        {
          "output_type": "stream",
          "name": "stdout",
          "text": [
            "INFO:tensorflow:*** Available Device: _DeviceAttributes(/job:worker/replica:0/task:0/device:TPU:4, TPU, 0, 0)\n"
          ]
        },
        {
          "output_type": "stream",
          "name": "stderr",
          "text": [
            "INFO:tensorflow:*** Available Device: _DeviceAttributes(/job:worker/replica:0/task:0/device:TPU:4, TPU, 0, 0)\n"
          ]
        },
        {
          "output_type": "stream",
          "name": "stdout",
          "text": [
            "INFO:tensorflow:*** Available Device: _DeviceAttributes(/job:worker/replica:0/task:0/device:TPU:5, TPU, 0, 0)\n"
          ]
        },
        {
          "output_type": "stream",
          "name": "stderr",
          "text": [
            "INFO:tensorflow:*** Available Device: _DeviceAttributes(/job:worker/replica:0/task:0/device:TPU:5, TPU, 0, 0)\n"
          ]
        },
        {
          "output_type": "stream",
          "name": "stdout",
          "text": [
            "INFO:tensorflow:*** Available Device: _DeviceAttributes(/job:worker/replica:0/task:0/device:TPU:6, TPU, 0, 0)\n"
          ]
        },
        {
          "output_type": "stream",
          "name": "stderr",
          "text": [
            "INFO:tensorflow:*** Available Device: _DeviceAttributes(/job:worker/replica:0/task:0/device:TPU:6, TPU, 0, 0)\n"
          ]
        },
        {
          "output_type": "stream",
          "name": "stdout",
          "text": [
            "INFO:tensorflow:*** Available Device: _DeviceAttributes(/job:worker/replica:0/task:0/device:TPU:7, TPU, 0, 0)\n"
          ]
        },
        {
          "output_type": "stream",
          "name": "stderr",
          "text": [
            "INFO:tensorflow:*** Available Device: _DeviceAttributes(/job:worker/replica:0/task:0/device:TPU:7, TPU, 0, 0)\n"
          ]
        },
        {
          "output_type": "stream",
          "name": "stdout",
          "text": [
            "INFO:tensorflow:*** Available Device: _DeviceAttributes(/job:worker/replica:0/task:0/device:TPU_SYSTEM:0, TPU_SYSTEM, 0, 0)\n"
          ]
        },
        {
          "output_type": "stream",
          "name": "stderr",
          "text": [
            "INFO:tensorflow:*** Available Device: _DeviceAttributes(/job:worker/replica:0/task:0/device:TPU_SYSTEM:0, TPU_SYSTEM, 0, 0)\n"
          ]
        },
        {
          "output_type": "stream",
          "name": "stdout",
          "text": [
            "INFO:tensorflow:*** Available Device: _DeviceAttributes(/job:worker/replica:0/task:0/device:XLA_CPU:0, XLA_CPU, 0, 0)\n"
          ]
        },
        {
          "output_type": "stream",
          "name": "stderr",
          "text": [
            "INFO:tensorflow:*** Available Device: _DeviceAttributes(/job:worker/replica:0/task:0/device:XLA_CPU:0, XLA_CPU, 0, 0)\n"
          ]
        }
      ]
    },
    {
      "cell_type": "code",
      "source": [
        "with tpu_strategy.scope():\n",
        "  model = build_classification_model(train_df, 'manufacturer', 'resized_image')\n",
        "\n",
        "model.summary()"
      ],
      "metadata": {
        "colab": {
          "base_uri": "https://localhost:8080/"
        },
        "id": "8WTuFANDGb3-",
        "outputId": "e360c134-40c9-4418-f6aa-a49dc981e08b"
      },
      "execution_count": null,
      "outputs": [
        {
          "output_type": "stream",
          "name": "stdout",
          "text": [
            "Model: \"sequential_4\"\n",
            "_________________________________________________________________\n",
            " Layer (type)                Output Shape              Param #   \n",
            "=================================================================\n",
            " conv2d_16 (Conv2D)          (None, 124, 124, 32)      2432      \n",
            "                                                                 \n",
            " conv2d_17 (Conv2D)          (None, 120, 120, 32)      25632     \n",
            "                                                                 \n",
            " max_pooling2d_8 (MaxPooling  (None, 60, 60, 32)       0         \n",
            " 2D)                                                             \n",
            "                                                                 \n",
            " dropout_12 (Dropout)        (None, 60, 60, 32)        0         \n",
            "                                                                 \n",
            " conv2d_18 (Conv2D)          (None, 58, 58, 64)        18496     \n",
            "                                                                 \n",
            " conv2d_19 (Conv2D)          (None, 56, 56, 64)        36928     \n",
            "                                                                 \n",
            " max_pooling2d_9 (MaxPooling  (None, 28, 28, 64)       0         \n",
            " 2D)                                                             \n",
            "                                                                 \n",
            " dropout_13 (Dropout)        (None, 28, 28, 64)        0         \n",
            "                                                                 \n",
            " flatten_4 (Flatten)         (None, 50176)             0         \n",
            "                                                                 \n",
            " dense_8 (Dense)             (None, 256)               12845312  \n",
            "                                                                 \n",
            " dropout_14 (Dropout)        (None, 256)               0         \n",
            "                                                                 \n",
            " dense_9 (Dense)             (None, 30)                7710      \n",
            "                                                                 \n",
            "=================================================================\n",
            "Total params: 12,936,510\n",
            "Trainable params: 12,936,510\n",
            "Non-trainable params: 0\n",
            "_________________________________________________________________\n"
          ]
        }
      ]
    },
    {
      "cell_type": "code",
      "source": [
        "%%time\n",
        "epochs = 30\n",
        "history = model.fit(X_train, y_train, batch_size=96, epochs=epochs, \n",
        "                    validation_data=(X_test, y_test),\n",
        "                    )"
      ],
      "metadata": {
        "id": "k9TMjV0MJKvu",
        "colab": {
          "base_uri": "https://localhost:8080/"
        },
        "outputId": "642a3c8c-f03b-4d69-a507-76ed4ac03935"
      },
      "execution_count": null,
      "outputs": [
        {
          "output_type": "stream",
          "name": "stdout",
          "text": [
            "Epoch 1/30\n",
            "35/35 [==============================] - 38s 799ms/step - loss: 25.3235 - accuracy: 0.1707 - val_loss: 2.9808 - val_accuracy: 0.2214\n",
            "Epoch 2/30\n",
            "35/35 [==============================] - 3s 85ms/step - loss: 2.9479 - accuracy: 0.2232 - val_loss: 2.7798 - val_accuracy: 0.2313\n",
            "Epoch 3/30\n",
            "35/35 [==============================] - 3s 82ms/step - loss: 2.7705 - accuracy: 0.2256 - val_loss: 2.7102 - val_accuracy: 0.2331\n",
            "Epoch 4/30\n",
            "35/35 [==============================] - 3s 84ms/step - loss: 2.6615 - accuracy: 0.2445 - val_loss: 2.6047 - val_accuracy: 0.2466\n",
            "Epoch 5/30\n",
            "35/35 [==============================] - 3s 83ms/step - loss: 2.5135 - accuracy: 0.2762 - val_loss: 2.5421 - val_accuracy: 0.2577\n",
            "Epoch 6/30\n",
            "35/35 [==============================] - 3s 84ms/step - loss: 2.3378 - accuracy: 0.3119 - val_loss: 2.4907 - val_accuracy: 0.2760\n",
            "Epoch 7/30\n",
            "35/35 [==============================] - 3s 83ms/step - loss: 2.1893 - accuracy: 0.3470 - val_loss: 2.4410 - val_accuracy: 0.2868\n",
            "Epoch 8/30\n",
            "35/35 [==============================] - 3s 83ms/step - loss: 1.9792 - accuracy: 0.4004 - val_loss: 2.4206 - val_accuracy: 0.2922\n",
            "Epoch 9/30\n",
            "35/35 [==============================] - 3s 82ms/step - loss: 1.8600 - accuracy: 0.4286 - val_loss: 2.3949 - val_accuracy: 0.3045\n",
            "Epoch 10/30\n",
            "35/35 [==============================] - 3s 83ms/step - loss: 1.6919 - accuracy: 0.4565 - val_loss: 2.3538 - val_accuracy: 0.3072\n",
            "Epoch 11/30\n",
            "35/35 [==============================] - 3s 83ms/step - loss: 1.5108 - accuracy: 0.5162 - val_loss: 2.3346 - val_accuracy: 0.3240\n",
            "Epoch 12/30\n",
            "35/35 [==============================] - 3s 83ms/step - loss: 1.3533 - accuracy: 0.5681 - val_loss: 2.3555 - val_accuracy: 0.3333\n",
            "Epoch 13/30\n",
            "35/35 [==============================] - 3s 83ms/step - loss: 1.2375 - accuracy: 0.6014 - val_loss: 2.3328 - val_accuracy: 0.3303\n",
            "Epoch 14/30\n",
            "35/35 [==============================] - 3s 82ms/step - loss: 1.1534 - accuracy: 0.6254 - val_loss: 2.3324 - val_accuracy: 0.3372\n",
            "Epoch 15/30\n",
            "35/35 [==============================] - 3s 84ms/step - loss: 1.0350 - accuracy: 0.6554 - val_loss: 2.3079 - val_accuracy: 0.3489\n",
            "Epoch 16/30\n",
            "35/35 [==============================] - 3s 83ms/step - loss: 0.9643 - accuracy: 0.6878 - val_loss: 2.3937 - val_accuracy: 0.3450\n",
            "Epoch 17/30\n",
            "35/35 [==============================] - 3s 83ms/step - loss: 0.9038 - accuracy: 0.6989 - val_loss: 2.4004 - val_accuracy: 0.3504\n",
            "Epoch 18/30\n",
            "35/35 [==============================] - 3s 84ms/step - loss: 0.8050 - accuracy: 0.7352 - val_loss: 2.4291 - val_accuracy: 0.3570\n",
            "Epoch 19/30\n",
            "35/35 [==============================] - 3s 83ms/step - loss: 0.7079 - accuracy: 0.7588 - val_loss: 2.4631 - val_accuracy: 0.3633\n",
            "Epoch 20/30\n",
            "35/35 [==============================] - 3s 85ms/step - loss: 0.7347 - accuracy: 0.7603 - val_loss: 2.5023 - val_accuracy: 0.3525\n",
            "Epoch 21/30\n",
            "35/35 [==============================] - 3s 94ms/step - loss: 0.7118 - accuracy: 0.7612 - val_loss: 2.5863 - val_accuracy: 0.3525\n",
            "Epoch 22/30\n",
            "35/35 [==============================] - 3s 86ms/step - loss: 0.5964 - accuracy: 0.8002 - val_loss: 2.5241 - val_accuracy: 0.3600\n",
            "Epoch 23/30\n",
            "35/35 [==============================] - 3s 84ms/step - loss: 0.6225 - accuracy: 0.7978 - val_loss: 2.4841 - val_accuracy: 0.3651\n",
            "Epoch 24/30\n",
            "35/35 [==============================] - 3s 83ms/step - loss: 0.5518 - accuracy: 0.8224 - val_loss: 2.5960 - val_accuracy: 0.3663\n",
            "Epoch 25/30\n",
            "35/35 [==============================] - 3s 84ms/step - loss: 0.5129 - accuracy: 0.8239 - val_loss: 2.4834 - val_accuracy: 0.3663\n",
            "Epoch 26/30\n",
            "35/35 [==============================] - 3s 84ms/step - loss: 0.4930 - accuracy: 0.8368 - val_loss: 2.6223 - val_accuracy: 0.3675\n",
            "Epoch 27/30\n",
            "35/35 [==============================] - 3s 84ms/step - loss: 0.4984 - accuracy: 0.8329 - val_loss: 2.6177 - val_accuracy: 0.3720\n",
            "Epoch 28/30\n",
            "35/35 [==============================] - 3s 84ms/step - loss: 0.4587 - accuracy: 0.8452 - val_loss: 2.6489 - val_accuracy: 0.3717\n",
            "Epoch 29/30\n",
            "35/35 [==============================] - 3s 83ms/step - loss: 0.4112 - accuracy: 0.8602 - val_loss: 2.8290 - val_accuracy: 0.3735\n",
            "Epoch 30/30\n",
            "35/35 [==============================] - 3s 84ms/step - loss: 0.4263 - accuracy: 0.8575 - val_loss: 2.6683 - val_accuracy: 0.3636\n",
            "CPU times: user 36.1 s, sys: 4.97 s, total: 41 s\n",
            "Wall time: 2min 6s\n"
          ]
        }
      ]
    },
    {
      "cell_type": "markdown",
      "source": [
        "# Performance du modèle"
      ],
      "metadata": {
        "id": "jY9VOtxOg50P"
      }
    },
    {
      "cell_type": "code",
      "source": [
        "fig, ax = plt.subplots(figsize=(12, 10))\n",
        "sns.heatmap(pd.crosstab(test_df['manufacturer'],\n",
        "                        classify_images(X_test, model, test_df['manufacturer'].astype('category').cat.categories),\n",
        "                        normalize='index'),\n",
        "            cmap='vlag',\n",
        "            ax=ax);"
      ],
      "metadata": {
        "colab": {
          "base_uri": "https://localhost:8080/",
          "height": 727
        },
        "id": "3o1XQSRcxFbj",
        "outputId": "c3ef2afe-ef1e-4948-935a-1b8a02dbbfd7"
      },
      "execution_count": null,
      "outputs": [
        {
          "output_type": "display_data",
          "data": {
            "text/plain": [
              "<Figure size 864x720 with 2 Axes>"
            ],
            "image/png": "[encoded data removed]"
          },
          "metadata": {
            "needs_background": "light"
          }
        }
      ]
    },
    {
      "cell_type": "code",
      "source": [
        "# il a bien appris car on est dans le train\n",
        "fig, ax = plt.subplots(figsize=(12, 10))\n",
        "sns.heatmap(pd.crosstab(np.argmax(y_train, axis=1), classify_images(X_train, model), normalize='index'),\n",
        "            cmap='vlag',\n",
        "            ax=ax);"
      ],
      "metadata": {
        "colab": {
          "base_uri": "https://localhost:8080/",
          "height": 610
        },
        "id": "IBv-rG8YaclL",
        "outputId": "d9b7d4ec-e2b1-4807-dca2-328cd4efafde"
      },
      "execution_count": null,
      "outputs": [
        {
          "output_type": "display_data",
          "data": {
            "text/plain": [
              "<Figure size 864x720 with 2 Axes>"
            ],
            "image/png": "[encoded data removed]"
          },
          "metadata": {
            "needs_background": "light"
          }
        }
      ]
    },
    {
      "cell_type": "markdown",
      "source": [
        "Enregistrer le model"
      ],
      "metadata": {
        "id": "NI7lOtVhkO4v"
      }
    },
    {
      "cell_type": "code",
      "source": [
        "# il enregistre avec date\n",
        "import datetime\n",
        "\n",
        "def save_model(model, basename):\n",
        "  \"\"\"Save tf/Keras model.\n",
        "\n",
        "  Model file is named model + timestamp.\n",
        "\n",
        "  Parameters\n",
        "  ----------\n",
        "  model (tf/Keras model): model to be saved\n",
        "  basename: location to save model file\n",
        "  \"\"\"\n",
        "  model.save('{}_{}.h5'.format(basename, datetime.datetime.now().strftime('%Y-%m-%d_%H-%M-%S')))\n",
        "  return"
      ],
      "metadata": {
        "id": "qFDlro4f1s01"
      },
      "execution_count": null,
      "outputs": []
    },
    {
      "cell_type": "code",
      "source": [
        "save_model(model, 'model/planes')"
      ],
      "metadata": {
        "id": "bm62oHGZ2kiP"
      },
      "execution_count": null,
      "outputs": []
    },
    {
      "cell_type": "code",
      "source": [
        "# voir ou il est enregistré + poids du modèle\n",
        "!ls -lh model"
      ],
      "metadata": {
        "colab": {
          "base_uri": "https://localhost:8080/"
        },
        "id": "LRoosGWt1lvR",
        "outputId": "bf6f824e-2bd0-47eb-e027-e44d7159c48b"
      },
      "execution_count": null,
      "outputs": [
        {
          "output_type": "stream",
          "name": "stdout",
          "text": [
            "total 297M\n",
            "-rw-r--r-- 1 root root 149M Apr  3 17:49 planes_2022-04-03_17-49-38.h5\n",
            "-rw-r--r-- 1 root root 149M Apr  3 18:06 planes_2022-04-03_18-06-17.h5\n"
          ]
        }
      ]
    },
    {
      "cell_type": "code",
      "source": [
        "reloaded_model = load_model('/content/model/planes_2022-04-03_18-06-17.h5')"
      ],
      "metadata": {
        "id": "vDKNIF7B2tA0"
      },
      "execution_count": null,
      "outputs": []
    }
  ]
}