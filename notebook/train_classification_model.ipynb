{
  "nbformat": 4,
  "nbformat_minor": 0,
  "metadata": {
    "colab": {
      "name": "Copy of train_classification_model.ipynb",
      "provenance": [],
      "collapsed_sections": [],
      "toc_visible": true,
      "include_colab_link": true
    },
    "kernelspec": {
      "name": "python3",
      "display_name": "Python 3"
    },
    "language_info": {
      "name": "python"
    },
    "accelerator": "TPU"
  },
  "cells": [
    {
      "cell_type": "markdown",
      "metadata": {
        "id": "view-in-github",
        "colab_type": "text"
      },
      "source": [
        "<a href=\"https://colab.research.google.com/github/CamCha0928/plane-classification/blob/main/notebook/train_classification_model.ipynb\" target=\"_parent\"><img src=\"https://colab.research.google.com/assets/colab-badge.svg\" alt=\"Open In Colab\"/></a>"
      ]
    },
    {
      "cell_type": "markdown",
      "source": [
        "# Importing data"
      ],
      "metadata": {
        "id": "2S7ce_mYFkdQ"
      }
    },
    {
      "cell_type": "code",
      "execution_count": 1,
      "metadata": {
        "colab": {
          "base_uri": "https://localhost:8080/"
        },
        "id": "VgmaCkAMYtDe",
        "outputId": "155bbe70-ec5a-42ed-fced-ca88ee74505c"
      },
      "outputs": [
        {
          "output_type": "stream",
          "name": "stdout",
          "text": [
            "  % Total    % Received % Xferd  Average Speed   Time    Time     Time  Current\n",
            "                                 Dload  Upload   Total   Spent    Left  Speed\n",
            "100 2625M  100 2625M    0     0  28.3M      0  0:01:32  0:01:32 --:--:-- 28.8M\n"
          ]
        }
      ],
      "source": [
        "!curl -O https://www.robots.ox.ac.uk/~vgg/data/fgvc-aircraft/archives/fgvc-aircraft-2013b.tar.gz\n",
        "!tar xzf fgvc-aircraft-2013b.tar.gz\n",
        "!mv fgvc-aircraft-2013b dataset"
      ]
    },
    {
      "cell_type": "markdown",
      "source": [
        "### Packages"
      ],
      "metadata": {
        "id": "E9KEEr-SqTW1"
      }
    },
    {
      "cell_type": "code",
      "source": [
        "import pathlib\n",
        "import matplotlib.pyplot as plt\n",
        "import numpy as np\n",
        "import pandas as pd\n",
        "import tensorflow as tf\n",
        "import yaml\n",
        "import seaborn as sns\n",
        "import datetime\n",
        "\n",
        "from keras.models import Sequential, load_model\n",
        "from keras.layers import Conv2D, MaxPool2D, Dense, Flatten, Dropout\n",
        "\n",
        "#from tensorflow.keras.utils import to_categorical\n",
        "from sklearn.model_selection import train_test_split\n",
        "from PIL import Image"
      ],
      "metadata": {
        "id": "MpYIMjSYZMLQ"
      },
      "execution_count": 2,
      "outputs": []
    },
    {
      "cell_type": "markdown",
      "source": [
        "## Constantes"
      ],
      "metadata": {
        "id": "_x9gNNs-6Q1B"
      }
    },
    {
      "cell_type": "code",
      "source": [
        "from google.colab import drive\n",
        "drive.mount('/content/drive')"
      ],
      "metadata": {
        "colab": {
          "base_uri": "https://localhost:8080/"
        },
        "id": "8TyKwbNtT4oK",
        "outputId": "539de29b-df7c-4a2c-e01d-bced0754f277"
      },
      "execution_count": 8,
      "outputs": [
        {
          "output_type": "stream",
          "name": "stdout",
          "text": [
            "Drive already mounted at /content/drive; to attempt to forcibly remount, call drive.mount(\"/content/drive\", force_remount=True).\n"
          ]
        }
      ]
    },
    {
      "cell_type": "code",
      "source": [
        "with open(r'parametre.yaml') as yaml_data:\n",
        "  params = yaml.safe_load(yaml_data)\n",
        "  print(params)"
      ],
      "metadata": {
        "colab": {
          "base_uri": "https://localhost:8080/"
        },
        "id": "DmeUwqgHIAaB",
        "outputId": "12d563df-cc7c-4140-97d6-b6ae26f64d17"
      },
      "execution_count": 166,
      "outputs": [
        {
          "output_type": "stream",
          "name": "stdout",
          "text": [
            "{'DATA_DIR': 'dataset/data', 'MODELS_DIR': 'model', 'TARGET_NAME': 'family', 'IMAGE_WIDTH': 128, 'IMAGE_HEIGHT': 128, 'IMAGE_DEPTH': 3}\n"
          ]
        }
      ]
    },
    {
      "cell_type": "code",
      "source": [
        "DATA_DIR = pathlib.Path(params['DATA_DIR'])\n",
        "IMAGE_WIDTH = params['IMAGE_WIDTH']\n",
        "IMAGE_HEIGHT = params['IMAGE_HEIGHT']\n",
        "IMAGE_DEPTH = params['IMAGE_DEPTH']\n",
        "MODELS_DIR = params['MODELS_DIR']\n",
        "TARGET_NAME = params['TARGET_NAME']"
      ],
      "metadata": {
        "id": "Dr_2EW33bf-Q"
      },
      "execution_count": 168,
      "outputs": []
    },
    {
      "cell_type": "markdown",
      "source": [
        "# Reading files"
      ],
      "metadata": {
        "id": "ig4p7nQxPN-v"
      }
    },
    {
      "cell_type": "markdown",
      "source": [
        "DataFrame construction and image resizing"
      ],
      "metadata": {
        "id": "ipAaLV1YWkMi"
      }
    },
    {
      "cell_type": "code",
      "source": [
        "def build_image_database(path, target):\n",
        "  \"\"\"Build a pandas dataframe with target class and access path to images.\n",
        "\n",
        "  Parameters\n",
        "  ----------\n",
        "  path (Path): path pattern to read csv file containing images information.\n",
        "  target (str): name of the target column.\n",
        "\n",
        "  Returns\n",
        "  -------\n",
        "  A pandas dataframe, including target class and path to image.\n",
        "  \"\"\"\n",
        "  _df = pd.read_csv(path, sep='\\t',\n",
        "              names=['all'],\n",
        "              dtype={'all': str},              # ids are not int but string\n",
        "            )\n",
        "\n",
        "    # The split() function splits a string\n",
        "  _df['image_id'] = _df['all'].apply(lambda x: x.split(' ')[0])\n",
        "\n",
        "   # The '<car>'.join(list) function concatenates list elements using the <car> separator\n",
        "  _df[target] = _df['all'].apply(lambda x: ' '.join(x.split(' ')[1:]))\n",
        "\n",
        "  # The path column contains the path to the image\n",
        "  _df['path'] = _df['image_id'].apply(lambda x: pathlib.Path('dataset/data/images') / (x + '.jpg'))\n",
        "\n",
        "  return _df.drop(columns=['all'])"
      ],
      "metadata": {
        "id": "IQ-oAOTYF37l"
      },
      "execution_count": 169,
      "outputs": []
    },
    {
      "cell_type": "code",
      "source": [
        "path_train = 'images_'+TARGET_NAME+'_train.txt'\n",
        "_df = build_image_database(DATA_DIR / path_train, TARGET_NAME)"
      ],
      "metadata": {
        "id": "s-41RnQs8GRK"
      },
      "execution_count": 170,
      "outputs": []
    },
    {
      "cell_type": "code",
      "source": [
        "# The function :\n",
        "# - takes a df (argument)\n",
        "# - takes a row (row: argument, the row index)\n",
        "# - takes a column (target: argument)\n",
        "# - displays the class (the value of target) and the associated image, for the row in argument\n",
        "\n",
        "def show_image(df, row, target):\n",
        "  \"\"\"Show an image from an image database, with the associated class.\n",
        "\n",
        "  Parameters\n",
        "  ----------\n",
        "  df (pd.DataFrame): images definition dataframe\n",
        "  row (int): row index in df of image to be displayed\n",
        "  target (str): name of the target column\n",
        "\n",
        "  Returns\n",
        "  -------\n",
        "  None\n",
        "  \"\"\"\n",
        "  assert target in df.columns, \"Missing target column in dataframe\"\n",
        "  assert 'path' in df.columns, \"Missing image path in dataframe\"\n",
        "  print(df.iloc[row,][target])\n",
        "  plt.imshow(plt.imread(df.iloc[row,]['path']))\n",
        "  return"
      ],
      "metadata": {
        "id": "k1cARpYSUEdq"
      },
      "execution_count": 171,
      "outputs": []
    },
    {
      "cell_type": "code",
      "source": [
        "def load_resize_image(path, height, width):\n",
        "  \"\"\"Load an image and resize it to the target size.\n",
        "\n",
        "  Parameters\n",
        "  ----------\n",
        "  path (Path): access path to image file\n",
        "  height (int): resize image to this height\n",
        "  width (int): resize image to this width\n",
        "  \n",
        "  Returns\n",
        "  -------\n",
        "  np.array containing resized image\n",
        "  \"\"\"\n",
        "  return np.array(Image.open(path).resize((width, height)))"
      ],
      "metadata": {
        "id": "WWhPJrtaRCDP"
      },
      "execution_count": 172,
      "outputs": []
    },
    {
      "cell_type": "code",
      "source": [
        "_df['resized_image'] = _df.apply(lambda r: load_resize_image(r['path'], IMAGE_HEIGHT, IMAGE_WIDTH), axis=1)"
      ],
      "metadata": {
        "id": "HpnyauUc9O3Z"
      },
      "execution_count": 173,
      "outputs": []
    },
    {
      "cell_type": "markdown",
      "source": [
        "# Neural network for classification"
      ],
      "metadata": {
        "id": "ZLeUiSWSZg1q"
      }
    },
    {
      "cell_type": "code",
      "source": [
        "def build_classification_model(df: pd.DataFrame, target: str, images: str):\n",
        "  \"\"\"Build a TF model using information from target and images columns in dataframe.\n",
        "\n",
        "  Parameters\n",
        "  ----------\n",
        "  df (pd.DataFrame): dataframe with target and images columns\n",
        "  target (str): column name for target variable\n",
        "  images (str): column name for images\n",
        "\n",
        "  Returns\n",
        "  -------\n",
        "  TF model built & compiled\n",
        "  \"\"\"\n",
        "  nb_classes = df[target].nunique() # Compute number of classes for output layer\n",
        "  size = df[images].iloc[0].shape # Compute images size for input layer\n",
        "\n",
        "  #Building the model\n",
        "  model = Sequential()\n",
        "  model.add(Conv2D(filters=32, kernel_size=(5,5), activation='relu', input_shape=size))\n",
        "  model.add(Conv2D(filters=32, kernel_size=(5,5), activation='relu'))\n",
        "  model.add(MaxPool2D(pool_size=(2, 2)))\n",
        "  model.add(Dropout(rate=0.25))\n",
        "  model.add(Conv2D(filters=64, kernel_size=(3, 3), activation='relu'))\n",
        "  model.add(Conv2D(filters=64, kernel_size=(3, 3), activation='relu'))\n",
        "  model.add(MaxPool2D(pool_size=(2, 2)))\n",
        "  model.add(Dropout(rate=0.25))\n",
        "  model.add(Flatten())\n",
        "  model.add(Dense(256, activation='relu'))\n",
        "  model.add(Dropout(rate=0.5))\n",
        "  model.add(Dense(nb_classes, activation='softmax')) # output layer with nb_classes\n",
        "\n",
        "  #Compilation of the model\n",
        "  model.compile(loss='categorical_crossentropy', optimizer='adam', metrics=['accuracy'])\n",
        "\n",
        "  return model\n"
      ],
      "metadata": {
        "id": "rCEZVyzpb5dU"
      },
      "execution_count": 176,
      "outputs": []
    },
    {
      "cell_type": "markdown",
      "source": [
        "# Building the learning base"
      ],
      "metadata": {
        "id": "-31y54DgW8Im"
      }
    },
    {
      "cell_type": "markdown",
      "source": [
        "Train and Test"
      ],
      "metadata": {
        "id": "m-n97_UBVzjd"
      }
    },
    {
      "cell_type": "code",
      "source": [
        "def build_x_and_y(df: pd.DataFrame, target: str, images: str):\n",
        "  \"\"\"Build x tensor and y tensor for model fitting.\n",
        "\n",
        "  Parameters\n",
        "  ----------\n",
        "  df (pd.DataFrame): dataframe containing images and target\n",
        "  target (str): name of target column\n",
        "  images (str): name of images column\n",
        "\n",
        "  Returns\n",
        "  -------\n",
        "  x (np.array): tensor of x values\n",
        "  y (np.array): tensor of y values\n",
        "  \"\"\"\n",
        "  x = np.array(df[images].to_list())\n",
        "  y = tf.keras.utils.to_categorical(df[target].astype('category').cat.codes)\n",
        "  return x, y\n"
      ],
      "metadata": {
        "id": "2BqkQLyuhve0"
      },
      "execution_count": 177,
      "outputs": []
    },
    {
      "cell_type": "code",
      "source": [
        "# Load train & test dataset\n",
        "path_train = 'images_'+TARGET_NAME+'_train.txt'\n",
        "path_test = 'images_'+TARGET_NAME+'_test.txt'\n",
        "\n",
        "train_df = build_image_database(DATA_DIR / path_train, TARGET_NAME)\n",
        "test_df = build_image_database(DATA_DIR / path_test, TARGET_NAME)\n",
        "\n",
        "# Load & resize images\n",
        "train_df['resized_image'] = train_df.apply(lambda r: load_resize_image(r['path'],\n",
        "                                                                       IMAGE_HEIGHT, IMAGE_WIDTH),\n",
        "                                           axis=1)\n",
        "test_df['resized_image'] = test_df.apply(lambda r: load_resize_image(r['path'],\n",
        "                                                                       IMAGE_HEIGHT, IMAGE_WIDTH),\n",
        "                                         axis=1)\n",
        "\n",
        "# Build tensors for training & testing\n",
        "X_train, y_train = build_x_and_y(train_df, TARGET_NAME, 'resized_image')\n",
        "X_test, y_test = build_x_and_y(test_df, TARGET_NAME, 'resized_image')\n",
        "\n",
        "# Build TF classification model\n",
        "model = build_classification_model(train_df, TARGET_NAME, 'resized_image')\n"
      ],
      "metadata": {
        "id": "Yxf7tPGKkIAo"
      },
      "execution_count": 178,
      "outputs": []
    },
    {
      "cell_type": "markdown",
      "source": [
        "# Model training "
      ],
      "metadata": {
        "id": "ZgECR2HAbUJV"
      }
    },
    {
      "cell_type": "markdown",
      "source": [
        "Image classification"
      ],
      "metadata": {
        "id": "rLFKebhohocc"
      }
    },
    {
      "cell_type": "code",
      "source": [
        "def classify_images(images, model, classes_names=None):\n",
        "  \"\"\"Classify images through a TF model.\n",
        "\n",
        "  Parameters\n",
        "  ----------\n",
        "  images (np.array): set of images to classify\n",
        "  model (tf.keras.Model): TF/Keras model\n",
        "  classes_names: dictionary with names of classes\n",
        "\n",
        "  Returns\n",
        "  -------\n",
        "  predicted classes\n",
        "  \"\"\"\n",
        "\n",
        "  results = model.predict(images) # predict for images\n",
        "  classes = np.argmax(results, axis=1) # argmax returns the index of the max value per row\n",
        "  if classes_names is not None:\n",
        "    classes = np.array(classes_names[classes])\n",
        "  return classes"
      ],
      "metadata": {
        "id": "76prrRLTetiK"
      },
      "execution_count": 179,
      "outputs": []
    },
    {
      "cell_type": "markdown",
      "source": [
        "CPU --> TPU"
      ],
      "metadata": {
        "id": "wEjsU7Ocds3q"
      }
    },
    {
      "cell_type": "code",
      "source": [
        "try:\n",
        "  tpu = tf.distribute.cluster_resolver.TPUClusterResolver()  # TPU detection\n",
        "  print('Running on TPU ', tpu.cluster_spec().as_dict()['worker'])\n",
        "except ValueError:\n",
        "  raise BaseException('ERROR: Not connected to a TPU runtime; please see the previous cell in this notebook for instructions!')\n",
        "\n",
        "tf.config.experimental_connect_to_cluster(tpu)\n",
        "tf.tpu.experimental.initialize_tpu_system(tpu)\n",
        "tpu_strategy = tf.distribute.experimental.TPUStrategy(tpu)"
      ],
      "metadata": {
        "id": "ulL7d8A4DP_e",
        "colab": {
          "base_uri": "https://localhost:8080/"
        },
        "outputId": "c7067ad3-1cab-425a-dcaf-3c48c0faac43"
      },
      "execution_count": 180,
      "outputs": [
        {
          "output_type": "stream",
          "name": "stdout",
          "text": [
            "Running on TPU  ['10.20.196.98:8470']\n",
            "INFO:tensorflow:Deallocate tpu buffers before initializing tpu system.\n"
          ]
        },
        {
          "output_type": "stream",
          "name": "stderr",
          "text": [
            "INFO:tensorflow:Deallocate tpu buffers before initializing tpu system.\n"
          ]
        },
        {
          "output_type": "stream",
          "name": "stdout",
          "text": [
            "INFO:tensorflow:Initializing the TPU system: grpc://10.20.196.98:8470\n"
          ]
        },
        {
          "output_type": "stream",
          "name": "stderr",
          "text": [
            "INFO:tensorflow:Initializing the TPU system: grpc://10.20.196.98:8470\n"
          ]
        },
        {
          "output_type": "stream",
          "name": "stdout",
          "text": [
            "INFO:tensorflow:Finished initializing TPU system.\n"
          ]
        },
        {
          "output_type": "stream",
          "name": "stderr",
          "text": [
            "INFO:tensorflow:Finished initializing TPU system.\n",
            "WARNING:absl:`tf.distribute.experimental.TPUStrategy` is deprecated, please use  the non experimental symbol `tf.distribute.TPUStrategy` instead.\n"
          ]
        },
        {
          "output_type": "stream",
          "name": "stdout",
          "text": [
            "INFO:tensorflow:Found TPU system:\n"
          ]
        },
        {
          "output_type": "stream",
          "name": "stderr",
          "text": [
            "INFO:tensorflow:Found TPU system:\n"
          ]
        },
        {
          "output_type": "stream",
          "name": "stdout",
          "text": [
            "INFO:tensorflow:*** Num TPU Cores: 8\n"
          ]
        },
        {
          "output_type": "stream",
          "name": "stderr",
          "text": [
            "INFO:tensorflow:*** Num TPU Cores: 8\n"
          ]
        },
        {
          "output_type": "stream",
          "name": "stdout",
          "text": [
            "INFO:tensorflow:*** Num TPU Workers: 1\n"
          ]
        },
        {
          "output_type": "stream",
          "name": "stderr",
          "text": [
            "INFO:tensorflow:*** Num TPU Workers: 1\n"
          ]
        },
        {
          "output_type": "stream",
          "name": "stdout",
          "text": [
            "INFO:tensorflow:*** Num TPU Cores Per Worker: 8\n"
          ]
        },
        {
          "output_type": "stream",
          "name": "stderr",
          "text": [
            "INFO:tensorflow:*** Num TPU Cores Per Worker: 8\n"
          ]
        },
        {
          "output_type": "stream",
          "name": "stdout",
          "text": [
            "INFO:tensorflow:*** Available Device: _DeviceAttributes(/job:localhost/replica:0/task:0/device:CPU:0, CPU, 0, 0)\n"
          ]
        },
        {
          "output_type": "stream",
          "name": "stderr",
          "text": [
            "INFO:tensorflow:*** Available Device: _DeviceAttributes(/job:localhost/replica:0/task:0/device:CPU:0, CPU, 0, 0)\n"
          ]
        },
        {
          "output_type": "stream",
          "name": "stdout",
          "text": [
            "INFO:tensorflow:*** Available Device: _DeviceAttributes(/job:worker/replica:0/task:0/device:CPU:0, CPU, 0, 0)\n"
          ]
        },
        {
          "output_type": "stream",
          "name": "stderr",
          "text": [
            "INFO:tensorflow:*** Available Device: _DeviceAttributes(/job:worker/replica:0/task:0/device:CPU:0, CPU, 0, 0)\n"
          ]
        },
        {
          "output_type": "stream",
          "name": "stdout",
          "text": [
            "INFO:tensorflow:*** Available Device: _DeviceAttributes(/job:worker/replica:0/task:0/device:TPU:0, TPU, 0, 0)\n"
          ]
        },
        {
          "output_type": "stream",
          "name": "stderr",
          "text": [
            "INFO:tensorflow:*** Available Device: _DeviceAttributes(/job:worker/replica:0/task:0/device:TPU:0, TPU, 0, 0)\n"
          ]
        },
        {
          "output_type": "stream",
          "name": "stdout",
          "text": [
            "INFO:tensorflow:*** Available Device: _DeviceAttributes(/job:worker/replica:0/task:0/device:TPU:1, TPU, 0, 0)\n"
          ]
        },
        {
          "output_type": "stream",
          "name": "stderr",
          "text": [
            "INFO:tensorflow:*** Available Device: _DeviceAttributes(/job:worker/replica:0/task:0/device:TPU:1, TPU, 0, 0)\n"
          ]
        },
        {
          "output_type": "stream",
          "name": "stdout",
          "text": [
            "INFO:tensorflow:*** Available Device: _DeviceAttributes(/job:worker/replica:0/task:0/device:TPU:2, TPU, 0, 0)\n"
          ]
        },
        {
          "output_type": "stream",
          "name": "stderr",
          "text": [
            "INFO:tensorflow:*** Available Device: _DeviceAttributes(/job:worker/replica:0/task:0/device:TPU:2, TPU, 0, 0)\n"
          ]
        },
        {
          "output_type": "stream",
          "name": "stdout",
          "text": [
            "INFO:tensorflow:*** Available Device: _DeviceAttributes(/job:worker/replica:0/task:0/device:TPU:3, TPU, 0, 0)\n"
          ]
        },
        {
          "output_type": "stream",
          "name": "stderr",
          "text": [
            "INFO:tensorflow:*** Available Device: _DeviceAttributes(/job:worker/replica:0/task:0/device:TPU:3, TPU, 0, 0)\n"
          ]
        },
        {
          "output_type": "stream",
          "name": "stdout",
          "text": [
            "INFO:tensorflow:*** Available Device: _DeviceAttributes(/job:worker/replica:0/task:0/device:TPU:4, TPU, 0, 0)\n"
          ]
        },
        {
          "output_type": "stream",
          "name": "stderr",
          "text": [
            "INFO:tensorflow:*** Available Device: _DeviceAttributes(/job:worker/replica:0/task:0/device:TPU:4, TPU, 0, 0)\n"
          ]
        },
        {
          "output_type": "stream",
          "name": "stdout",
          "text": [
            "INFO:tensorflow:*** Available Device: _DeviceAttributes(/job:worker/replica:0/task:0/device:TPU:5, TPU, 0, 0)\n"
          ]
        },
        {
          "output_type": "stream",
          "name": "stderr",
          "text": [
            "INFO:tensorflow:*** Available Device: _DeviceAttributes(/job:worker/replica:0/task:0/device:TPU:5, TPU, 0, 0)\n"
          ]
        },
        {
          "output_type": "stream",
          "name": "stdout",
          "text": [
            "INFO:tensorflow:*** Available Device: _DeviceAttributes(/job:worker/replica:0/task:0/device:TPU:6, TPU, 0, 0)\n"
          ]
        },
        {
          "output_type": "stream",
          "name": "stderr",
          "text": [
            "INFO:tensorflow:*** Available Device: _DeviceAttributes(/job:worker/replica:0/task:0/device:TPU:6, TPU, 0, 0)\n"
          ]
        },
        {
          "output_type": "stream",
          "name": "stdout",
          "text": [
            "INFO:tensorflow:*** Available Device: _DeviceAttributes(/job:worker/replica:0/task:0/device:TPU:7, TPU, 0, 0)\n"
          ]
        },
        {
          "output_type": "stream",
          "name": "stderr",
          "text": [
            "INFO:tensorflow:*** Available Device: _DeviceAttributes(/job:worker/replica:0/task:0/device:TPU:7, TPU, 0, 0)\n"
          ]
        },
        {
          "output_type": "stream",
          "name": "stdout",
          "text": [
            "INFO:tensorflow:*** Available Device: _DeviceAttributes(/job:worker/replica:0/task:0/device:TPU_SYSTEM:0, TPU_SYSTEM, 0, 0)\n"
          ]
        },
        {
          "output_type": "stream",
          "name": "stderr",
          "text": [
            "INFO:tensorflow:*** Available Device: _DeviceAttributes(/job:worker/replica:0/task:0/device:TPU_SYSTEM:0, TPU_SYSTEM, 0, 0)\n"
          ]
        },
        {
          "output_type": "stream",
          "name": "stdout",
          "text": [
            "INFO:tensorflow:*** Available Device: _DeviceAttributes(/job:worker/replica:0/task:0/device:XLA_CPU:0, XLA_CPU, 0, 0)\n"
          ]
        },
        {
          "output_type": "stream",
          "name": "stderr",
          "text": [
            "INFO:tensorflow:*** Available Device: _DeviceAttributes(/job:worker/replica:0/task:0/device:XLA_CPU:0, XLA_CPU, 0, 0)\n"
          ]
        }
      ]
    },
    {
      "cell_type": "code",
      "source": [
        "with tpu_strategy.scope():\n",
        "  model = build_classification_model(train_df, TARGET_NAME, 'resized_image')\n",
        "\n",
        "model.summary()"
      ],
      "metadata": {
        "colab": {
          "base_uri": "https://localhost:8080/"
        },
        "id": "8WTuFANDGb3-",
        "outputId": "cfb0c5f9-e156-4b4a-e84c-949a2551fe81"
      },
      "execution_count": 181,
      "outputs": [
        {
          "output_type": "stream",
          "name": "stdout",
          "text": [
            "Model: \"sequential_2\"\n",
            "_________________________________________________________________\n",
            " Layer (type)                Output Shape              Param #   \n",
            "=================================================================\n",
            " conv2d_8 (Conv2D)           (None, 124, 124, 32)      2432      \n",
            "                                                                 \n",
            " conv2d_9 (Conv2D)           (None, 120, 120, 32)      25632     \n",
            "                                                                 \n",
            " max_pooling2d_4 (MaxPooling  (None, 60, 60, 32)       0         \n",
            " 2D)                                                             \n",
            "                                                                 \n",
            " dropout_6 (Dropout)         (None, 60, 60, 32)        0         \n",
            "                                                                 \n",
            " conv2d_10 (Conv2D)          (None, 58, 58, 64)        18496     \n",
            "                                                                 \n",
            " conv2d_11 (Conv2D)          (None, 56, 56, 64)        36928     \n",
            "                                                                 \n",
            " max_pooling2d_5 (MaxPooling  (None, 28, 28, 64)       0         \n",
            " 2D)                                                             \n",
            "                                                                 \n",
            " dropout_7 (Dropout)         (None, 28, 28, 64)        0         \n",
            "                                                                 \n",
            " flatten_2 (Flatten)         (None, 50176)             0         \n",
            "                                                                 \n",
            " dense_4 (Dense)             (None, 256)               12845312  \n",
            "                                                                 \n",
            " dropout_8 (Dropout)         (None, 256)               0         \n",
            "                                                                 \n",
            " dense_5 (Dense)             (None, 70)                17990     \n",
            "                                                                 \n",
            "=================================================================\n",
            "Total params: 12,946,790\n",
            "Trainable params: 12,946,790\n",
            "Non-trainable params: 0\n",
            "_________________________________________________________________\n"
          ]
        }
      ]
    },
    {
      "cell_type": "code",
      "source": [
        "%%time\n",
        "epochs = 30\n",
        "history = model.fit(X_train, y_train, batch_size=96, epochs=epochs, \n",
        "                    validation_data=(X_test, y_test),\n",
        "                    )"
      ],
      "metadata": {
        "id": "k9TMjV0MJKvu",
        "colab": {
          "base_uri": "https://localhost:8080/"
        },
        "outputId": "f0e90ba2-b36c-4852-b306-b32736d19a9c"
      },
      "execution_count": 182,
      "outputs": [
        {
          "output_type": "stream",
          "name": "stdout",
          "text": [
            "Epoch 1/30\n",
            "35/35 [==============================] - 38s 775ms/step - loss: 13.2807 - accuracy: 0.0300 - val_loss: 4.2337 - val_accuracy: 0.0696\n",
            "Epoch 2/30\n",
            "35/35 [==============================] - 3s 83ms/step - loss: 4.2110 - accuracy: 0.0615 - val_loss: 4.2256 - val_accuracy: 0.0777\n",
            "Epoch 3/30\n",
            "35/35 [==============================] - 3s 86ms/step - loss: 4.1785 - accuracy: 0.0720 - val_loss: 4.1218 - val_accuracy: 0.0801\n",
            "Epoch 4/30\n",
            "35/35 [==============================] - 4s 130ms/step - loss: 4.1175 - accuracy: 0.0744 - val_loss: 4.1244 - val_accuracy: 0.0822\n",
            "Epoch 5/30\n",
            "35/35 [==============================] - 4s 123ms/step - loss: 4.0234 - accuracy: 0.0753 - val_loss: 4.0113 - val_accuracy: 0.0843\n",
            "Epoch 6/30\n",
            "35/35 [==============================] - 3s 94ms/step - loss: 3.9225 - accuracy: 0.0933 - val_loss: 3.9211 - val_accuracy: 0.0900\n",
            "Epoch 7/30\n",
            "35/35 [==============================] - 3s 95ms/step - loss: 3.7826 - accuracy: 0.1092 - val_loss: 3.8500 - val_accuracy: 0.1107\n",
            "Epoch 8/30\n",
            "35/35 [==============================] - 4s 103ms/step - loss: 3.6075 - accuracy: 0.1407 - val_loss: 3.7853 - val_accuracy: 0.1182\n",
            "Epoch 9/30\n",
            "35/35 [==============================] - 3s 83ms/step - loss: 3.3893 - accuracy: 0.1761 - val_loss: 3.7711 - val_accuracy: 0.1173\n",
            "Epoch 10/30\n",
            "35/35 [==============================] - 3s 82ms/step - loss: 3.1387 - accuracy: 0.2241 - val_loss: 3.7448 - val_accuracy: 0.1308\n",
            "Epoch 11/30\n",
            "35/35 [==============================] - 3s 95ms/step - loss: 2.9339 - accuracy: 0.2597 - val_loss: 3.7903 - val_accuracy: 0.1410\n",
            "Epoch 12/30\n",
            "35/35 [==============================] - 3s 92ms/step - loss: 2.6961 - accuracy: 0.3197 - val_loss: 3.7282 - val_accuracy: 0.1344\n",
            "Epoch 13/30\n",
            "35/35 [==============================] - 3s 82ms/step - loss: 2.4220 - accuracy: 0.3677 - val_loss: 3.7450 - val_accuracy: 0.1533\n",
            "Epoch 14/30\n",
            "35/35 [==============================] - 3s 84ms/step - loss: 2.1833 - accuracy: 0.4187 - val_loss: 3.8048 - val_accuracy: 0.1563\n",
            "Epoch 15/30\n",
            "35/35 [==============================] - 3s 92ms/step - loss: 2.0077 - accuracy: 0.4628 - val_loss: 3.7761 - val_accuracy: 0.1602\n",
            "Epoch 16/30\n",
            "35/35 [==============================] - 3s 94ms/step - loss: 1.7956 - accuracy: 0.5123 - val_loss: 3.6671 - val_accuracy: 0.1737\n",
            "Epoch 17/30\n",
            "35/35 [==============================] - 3s 88ms/step - loss: 1.6180 - accuracy: 0.5546 - val_loss: 3.9957 - val_accuracy: 0.1734\n",
            "Epoch 18/30\n",
            "35/35 [==============================] - 3s 84ms/step - loss: 1.4884 - accuracy: 0.5825 - val_loss: 3.8331 - val_accuracy: 0.1746\n",
            "Epoch 19/30\n",
            "35/35 [==============================] - 3s 84ms/step - loss: 1.3489 - accuracy: 0.6212 - val_loss: 4.0594 - val_accuracy: 0.1812\n",
            "Epoch 20/30\n",
            "35/35 [==============================] - 3s 85ms/step - loss: 1.2382 - accuracy: 0.6422 - val_loss: 4.0575 - val_accuracy: 0.1770\n",
            "Epoch 21/30\n",
            "35/35 [==============================] - 3s 83ms/step - loss: 1.1621 - accuracy: 0.6695 - val_loss: 4.1009 - val_accuracy: 0.1779\n",
            "Epoch 22/30\n",
            "35/35 [==============================] - 3s 85ms/step - loss: 0.9978 - accuracy: 0.7112 - val_loss: 4.3920 - val_accuracy: 0.1764\n",
            "Epoch 23/30\n",
            "35/35 [==============================] - 3s 84ms/step - loss: 0.9797 - accuracy: 0.7196 - val_loss: 4.3037 - val_accuracy: 0.1845\n",
            "Epoch 24/30\n",
            "35/35 [==============================] - 3s 85ms/step - loss: 0.9513 - accuracy: 0.7295 - val_loss: 4.2131 - val_accuracy: 0.1887\n",
            "Epoch 25/30\n",
            "35/35 [==============================] - 3s 84ms/step - loss: 0.8321 - accuracy: 0.7555 - val_loss: 4.2296 - val_accuracy: 0.1923\n",
            "Epoch 26/30\n",
            "35/35 [==============================] - 3s 84ms/step - loss: 0.8084 - accuracy: 0.7558 - val_loss: 4.5865 - val_accuracy: 0.1842\n",
            "Epoch 27/30\n",
            "35/35 [==============================] - 3s 85ms/step - loss: 0.7539 - accuracy: 0.7762 - val_loss: 4.3530 - val_accuracy: 0.1953\n",
            "Epoch 28/30\n",
            "35/35 [==============================] - 3s 84ms/step - loss: 0.6916 - accuracy: 0.7909 - val_loss: 4.5443 - val_accuracy: 0.1881\n",
            "Epoch 29/30\n",
            "35/35 [==============================] - 3s 85ms/step - loss: 0.6834 - accuracy: 0.7966 - val_loss: 4.5052 - val_accuracy: 0.2025\n",
            "Epoch 30/30\n",
            "35/35 [==============================] - 3s 84ms/step - loss: 0.6695 - accuracy: 0.7981 - val_loss: 4.7312 - val_accuracy: 0.1902\n",
            "CPU times: user 39.2 s, sys: 4.89 s, total: 44.1 s\n",
            "Wall time: 2min 12s\n"
          ]
        }
      ]
    },
    {
      "cell_type": "markdown",
      "source": [
        "# Model performance"
      ],
      "metadata": {
        "id": "jY9VOtxOg50P"
      }
    },
    {
      "cell_type": "code",
      "source": [
        "fig, ax = plt.subplots(figsize=(12, 10))\n",
        "sns.heatmap(pd.crosstab(test_df[TARGET_NAME],\n",
        "                        classify_images(X_test, model, test_df[TARGET_NAME].astype('category').cat.categories),\n",
        "                        normalize='index'),\n",
        "            cmap='vlag',\n",
        "            ax=ax);"
      ],
      "metadata": {
        "colab": {
          "base_uri": "https://localhost:8080/",
          "height": 649
        },
        "id": "3o1XQSRcxFbj",
        "outputId": "61b1edfc-4c3e-4cd8-a7c7-47c1f9698d12"
      },
      "execution_count": 50,
      "outputs": [
        {
          "output_type": "display_data",
          "data": {
            "text/plain": [
              "<Figure size 864x720 with 2 Axes>"
            ],
            "image/png": "[encoded data removed]"
          },
          "metadata": {
            "needs_background": "light"
          }
        }
      ]
    },
    {
      "cell_type": "code",
      "source": [
        "fig, ax = plt.subplots(figsize=(12, 10))\n",
        "sns.heatmap(pd.crosstab(np.argmax(y_train, axis=1), classify_images(X_train, model), normalize='index'),\n",
        "            cmap='vlag',\n",
        "            ax=ax);"
      ],
      "metadata": {
        "colab": {
          "base_uri": "https://localhost:8080/",
          "height": 610
        },
        "id": "IBv-rG8YaclL",
        "outputId": "2f3b97d3-e5ca-4e61-ee1a-6353f697819a"
      },
      "execution_count": 51,
      "outputs": [
        {
          "output_type": "display_data",
          "data": {
            "text/plain": [
              "<Figure size 864x720 with 2 Axes>"
            ],
            "image/png": "[encoded data removed]"
          },
          "metadata": {
            "needs_background": "light"
          }
        }
      ]
    },
    {
      "cell_type": "markdown",
      "source": [
        "Save the model"
      ],
      "metadata": {
        "id": "NI7lOtVhkO4v"
      }
    },
    {
      "cell_type": "code",
      "source": [
        "# it records with date\n",
        "import datetime\n",
        "\n",
        "def save_model(model, basename, target):\n",
        "  \"\"\"Save tf/Keras model.\n",
        "\n",
        "  Model file is named model + timestamp.\n",
        "\n",
        "  Parameters\n",
        "  ----------\n",
        "  model (tf/Keras model): model to be saved\n",
        "  basename: location to save model file\n",
        "  target(str): target variable\n",
        "  \"\"\"\n",
        "  # save the model\n",
        "\n",
        "  model.save(MODELS_DIR+\"/\"+ TARGET_NAME +\".h5\")\n",
        "  return"
      ],
      "metadata": {
        "id": "qFDlro4f1s01"
      },
      "execution_count": 185,
      "outputs": []
    },
    {
      "cell_type": "code",
      "source": [
        "save_model(model, 'model/planes', TARGET_NAME)"
      ],
      "metadata": {
        "id": "bm62oHGZ2kiP"
      },
      "execution_count": 186,
      "outputs": []
    },
    {
      "cell_type": "code",
      "source": [
        "# see where it is registered + model weight\n",
        "!ls -lh model"
      ],
      "metadata": {
        "colab": {
          "base_uri": "https://localhost:8080/"
        },
        "id": "LRoosGWt1lvR",
        "outputId": "2d35c0dd-ae13-4833-c440-cf53b7de205d"
      },
      "execution_count": 187,
      "outputs": [
        {
          "output_type": "stream",
          "name": "stdout",
          "text": [
            "total 149M\n",
            "-rw-r--r-- 1 root root 149M Apr  9 22:31 family.h5\n"
          ]
        }
      ]
    },
    {
      "cell_type": "markdown",
      "source": [
        "##### reload the model"
      ],
      "metadata": {
        "id": "CfRM3TpDt5p5"
      }
    },
    {
      "cell_type": "code",
      "source": [
        "reloaded_model = load_model('/content/'+MODELS_DIR+'/'+TARGET_NAME+'.h5')"
      ],
      "metadata": {
        "id": "vDKNIF7B2tA0"
      },
      "execution_count": 61,
      "outputs": []
    },
    {
      "cell_type": "markdown",
      "source": [
        "Extracting names"
      ],
      "metadata": {
        "id": "v-7cMOzI-qtG"
      }
    },
    {
      "cell_type": "code",
      "source": [
        "label = _df[TARGET_NAME].unique()\n",
        "label = pd.DataFrame(label, columns = ['Aircraft'] )\n",
        "label = label['Aircraft'].to_dict()"
      ],
      "metadata": {
        "id": "oU-kgMpu5TBx"
      },
      "execution_count": 174,
      "outputs": []
    },
    {
      "cell_type": "code",
      "source": [
        "with open(r'label_'+TARGET_NAME+'.yaml','w') as file:\n",
        "  label = yaml.dump(label, file)"
      ],
      "metadata": {
        "id": "RArAPhd0BODp"
      },
      "execution_count": 175,
      "outputs": []
    }
  ]
}